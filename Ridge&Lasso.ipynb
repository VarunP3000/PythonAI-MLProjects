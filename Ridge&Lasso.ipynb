{
    "metadata": {
        "kernelspec": {
            "name": "python3",
            "display_name": "Python 3 (ipykernel)",
            "language": "python"
        }
    },
    "nbformat": 4,
    "nbformat_minor": 1,
    "cells": [
        {
            "attachments": {},
            "cell_type": "markdown",
            "metadata": {},
            "source": [
                "# Assignment 1 - Ridge and LASSO Regression\n",
                "\n",
                "In this assignment we'll look at the affect of using regularization on linear regression models that we train. You will write code to train models that use different regularizers and different penalties to analyze how this affects the model.\n",
                "\n",
                "\n",
                "Fill in the cells provided marked `TODO` with code to answer the questions. Answers should do the computation stated rather than writing in hard-coded values. So for example, if a problem asks you to compute the average age of people in a dataset, you should be writing Python code in this notebook to do the computation instead of plugging it into some calculator and saving the hard-coded answer in the variable. In other words, we should be able to run your code on a smaller/larger dataset and get correct answers for those datasets with your code.\n",
                "\n",
                "Note, you are not allowed to share any portions of this notebook outside of this class.\n",
                "\n",
                "\u003e Copyright ©2023 Emily Fox and Hunter Schafer.  All rights reserved.  Permission is hereby granted to students registered for University of Washington CSE/STAT 416 for use solely during Spring Quarter 2025 for purposes of the course.  No other use, copying, distribution, or modification is permitted without prior written consent. Copyrights for third-party components of this work must be honored.  Instructors interested in reusing these course materials should contact the author.\n",
                "\n",
                "---"
            ]
        },
        {
            "cell_type": "code",
            "execution_count": 4,
            "metadata": {},
            "outputs": [],
            "source": [
                "# Conventionally people rename these common imports for brevity\n",
                "import pandas as pd\n",
                "import numpy as np\n",
                "import matplotlib.pyplot as plt\n",
                "\n",
                "# Magic command to make the plots appear in-line (it's actually called a \"magic command\")\n",
                "%matplotlib inline"
            ]
        },
        {
            "attachments": {},
            "cell_type": "markdown",
            "metadata": {},
            "source": [
                "**NOTE**: Be sure to run every cell in the notebook! The `###SKIP` is for the autograder. "
            ]
        },
        {
            "cell_type": "code",
            "execution_count": 5,
            "metadata": {
                "scrolled": true
            },
            "outputs": [],
            "source": [
                "### SKIP\n",
                "sales = pd.read_csv('home_data.csv')\n",
                "\n",
                "# Set seed for the whole program\n",
                "np.random.seed(416)"
            ]
        },
        {
            "attachments": {},
            "cell_type": "markdown",
            "metadata": {},
            "source": [
                "Do not modify the below cell. It configures the autograder, which will award 0 points if it doesn't run."
            ]
        },
        {
            "cell_type": "code",
            "execution_count": 6,
            "metadata": {},
            "outputs": [],
            "source": [
                "### edTest(test_load_data) ###"
            ]
        },
        {
            "attachments": {},
            "cell_type": "markdown",
            "metadata": {},
            "source": [
                "For this assignment, we will only be using a very small subset of the data to do our analysis. This is not something you would usually do in practice, but is something we do for this assignment to simplify the complexity of this dataset. The data is pretty noisy and to get meaningful results to demonstrate the theoretical behavior, you would need to use a much more complicated set of features that would be a bit more tedious to work with.\n",
                "\n",
                "**NOTE**: Do NOT change `random_state=0`, else the autograder will fail."
            ]
        },
        {
            "cell_type": "code",
            "execution_count": 7,
            "metadata": {},
            "outputs": [
                {
                    "name": "stdout",
                    "output_type": "stream",
                    "text": "Number of points: 216\n"
                },
                {
                    "data": {
                        "text/html": "\u003cdiv\u003e\n\u003cstyle scoped\u003e\n    .dataframe tbody tr th:only-of-type {\n        vertical-align: middle;\n    }\n\n    .dataframe tbody tr th {\n        vertical-align: top;\n    }\n\n    .dataframe thead th {\n        text-align: right;\n    }\n\u003c/style\u003e\n\u003ctable border=\"1\" class=\"dataframe\"\u003e\n  \u003cthead\u003e\n    \u003ctr style=\"text-align: right;\"\u003e\n      \u003cth\u003e\u003c/th\u003e\n      \u003cth\u003eid\u003c/th\u003e\n      \u003cth\u003edate\u003c/th\u003e\n      \u003cth\u003eprice\u003c/th\u003e\n      \u003cth\u003ebedrooms\u003c/th\u003e\n      \u003cth\u003ebathrooms\u003c/th\u003e\n      \u003cth\u003esqft_living\u003c/th\u003e\n      \u003cth\u003esqft_lot\u003c/th\u003e\n      \u003cth\u003efloors\u003c/th\u003e\n      \u003cth\u003ewaterfront\u003c/th\u003e\n      \u003cth\u003eview\u003c/th\u003e\n      \u003cth\u003e...\u003c/th\u003e\n      \u003cth\u003egrade\u003c/th\u003e\n      \u003cth\u003esqft_above\u003c/th\u003e\n      \u003cth\u003esqft_basement\u003c/th\u003e\n      \u003cth\u003eyr_built\u003c/th\u003e\n      \u003cth\u003eyr_renovated\u003c/th\u003e\n      \u003cth\u003ezipcode\u003c/th\u003e\n      \u003cth\u003elat\u003c/th\u003e\n      \u003cth\u003elong\u003c/th\u003e\n      \u003cth\u003esqft_living15\u003c/th\u003e\n      \u003cth\u003esqft_lot15\u003c/th\u003e\n    \u003c/tr\u003e\n  \u003c/thead\u003e\n  \u003ctbody\u003e\n    \u003ctr\u003e\n      \u003cth\u003e17384\u003c/th\u003e\n      \u003ctd\u003e1453602313\u003c/td\u003e\n      \u003ctd\u003e20141029T000000\u003c/td\u003e\n      \u003ctd\u003e297000\u003c/td\u003e\n      \u003ctd\u003e2\u003c/td\u003e\n      \u003ctd\u003e1.50\u003c/td\u003e\n      \u003ctd\u003e1430\u003c/td\u003e\n      \u003ctd\u003e1650\u003c/td\u003e\n      \u003ctd\u003e3.0\u003c/td\u003e\n      \u003ctd\u003e0\u003c/td\u003e\n      \u003ctd\u003e0\u003c/td\u003e\n      \u003ctd\u003e...\u003c/td\u003e\n      \u003ctd\u003e7\u003c/td\u003e\n      \u003ctd\u003e1430\u003c/td\u003e\n      \u003ctd\u003e0\u003c/td\u003e\n      \u003ctd\u003e1999\u003c/td\u003e\n      \u003ctd\u003e0\u003c/td\u003e\n      \u003ctd\u003e98125\u003c/td\u003e\n      \u003ctd\u003e47.7222\u003c/td\u003e\n      \u003ctd\u003e-122.290\u003c/td\u003e\n      \u003ctd\u003e1430\u003c/td\u003e\n      \u003ctd\u003e1650\u003c/td\u003e\n    \u003c/tr\u003e\n    \u003ctr\u003e\n      \u003cth\u003e722\u003c/th\u003e\n      \u003ctd\u003e2225059214\u003c/td\u003e\n      \u003ctd\u003e20140808T000000\u003c/td\u003e\n      \u003ctd\u003e1578000\u003c/td\u003e\n      \u003ctd\u003e4\u003c/td\u003e\n      \u003ctd\u003e3.25\u003c/td\u003e\n      \u003ctd\u003e4670\u003c/td\u003e\n      \u003ctd\u003e51836\u003c/td\u003e\n      \u003ctd\u003e2.0\u003c/td\u003e\n      \u003ctd\u003e0\u003c/td\u003e\n      \u003ctd\u003e0\u003c/td\u003e\n      \u003ctd\u003e...\u003c/td\u003e\n      \u003ctd\u003e12\u003c/td\u003e\n      \u003ctd\u003e4670\u003c/td\u003e\n      \u003ctd\u003e0\u003c/td\u003e\n      \u003ctd\u003e1988\u003c/td\u003e\n      \u003ctd\u003e0\u003c/td\u003e\n      \u003ctd\u003e98005\u003c/td\u003e\n      \u003ctd\u003e47.6350\u003c/td\u003e\n      \u003ctd\u003e-122.164\u003c/td\u003e\n      \u003ctd\u003e4230\u003c/td\u003e\n      \u003ctd\u003e41075\u003c/td\u003e\n    \u003c/tr\u003e\n    \u003ctr\u003e\n      \u003cth\u003e2680\u003c/th\u003e\n      \u003ctd\u003e2768000270\u003c/td\u003e\n      \u003ctd\u003e20140625T000000\u003c/td\u003e\n      \u003ctd\u003e562100\u003c/td\u003e\n      \u003ctd\u003e2\u003c/td\u003e\n      \u003ctd\u003e0.75\u003c/td\u003e\n      \u003ctd\u003e1440\u003c/td\u003e\n      \u003ctd\u003e3700\u003c/td\u003e\n      \u003ctd\u003e1.0\u003c/td\u003e\n      \u003ctd\u003e0\u003c/td\u003e\n      \u003ctd\u003e0\u003c/td\u003e\n      \u003ctd\u003e...\u003c/td\u003e\n      \u003ctd\u003e7\u003c/td\u003e\n      \u003ctd\u003e1200\u003c/td\u003e\n      \u003ctd\u003e240\u003c/td\u003e\n      \u003ctd\u003e1914\u003c/td\u003e\n      \u003ctd\u003e0\u003c/td\u003e\n      \u003ctd\u003e98107\u003c/td\u003e\n      \u003ctd\u003e47.6707\u003c/td\u003e\n      \u003ctd\u003e-122.364\u003c/td\u003e\n      \u003ctd\u003e1440\u003c/td\u003e\n      \u003ctd\u003e4300\u003c/td\u003e\n    \u003c/tr\u003e\n    \u003ctr\u003e\n      \u003cth\u003e18754\u003c/th\u003e\n      \u003ctd\u003e6819100040\u003c/td\u003e\n      \u003ctd\u003e20140624T000000\u003c/td\u003e\n      \u003ctd\u003e631500\u003c/td\u003e\n      \u003ctd\u003e2\u003c/td\u003e\n      \u003ctd\u003e1.00\u003c/td\u003e\n      \u003ctd\u003e1130\u003c/td\u003e\n      \u003ctd\u003e2640\u003c/td\u003e\n      \u003ctd\u003e1.0\u003c/td\u003e\n      \u003ctd\u003e0\u003c/td\u003e\n      \u003ctd\u003e0\u003c/td\u003e\n      \u003ctd\u003e...\u003c/td\u003e\n      \u003ctd\u003e8\u003c/td\u003e\n      \u003ctd\u003e1130\u003c/td\u003e\n      \u003ctd\u003e0\u003c/td\u003e\n      \u003ctd\u003e1927\u003c/td\u003e\n      \u003ctd\u003e0\u003c/td\u003e\n      \u003ctd\u003e98109\u003c/td\u003e\n      \u003ctd\u003e47.6438\u003c/td\u003e\n      \u003ctd\u003e-122.357\u003c/td\u003e\n      \u003ctd\u003e1680\u003c/td\u003e\n      \u003ctd\u003e3200\u003c/td\u003e\n    \u003c/tr\u003e\n    \u003ctr\u003e\n      \u003cth\u003e14554\u003c/th\u003e\n      \u003ctd\u003e4027700666\u003c/td\u003e\n      \u003ctd\u003e20150426T000000\u003c/td\u003e\n      \u003ctd\u003e780000\u003c/td\u003e\n      \u003ctd\u003e4\u003c/td\u003e\n      \u003ctd\u003e2.50\u003c/td\u003e\n      \u003ctd\u003e3180\u003c/td\u003e\n      \u003ctd\u003e9603\u003c/td\u003e\n      \u003ctd\u003e2.0\u003c/td\u003e\n      \u003ctd\u003e0\u003c/td\u003e\n      \u003ctd\u003e2\u003c/td\u003e\n      \u003ctd\u003e...\u003c/td\u003e\n      \u003ctd\u003e9\u003c/td\u003e\n      \u003ctd\u003e3180\u003c/td\u003e\n      \u003ctd\u003e0\u003c/td\u003e\n      \u003ctd\u003e2002\u003c/td\u003e\n      \u003ctd\u003e0\u003c/td\u003e\n      \u003ctd\u003e98155\u003c/td\u003e\n      \u003ctd\u003e47.7717\u003c/td\u003e\n      \u003ctd\u003e-122.277\u003c/td\u003e\n      \u003ctd\u003e2440\u003c/td\u003e\n      \u003ctd\u003e15261\u003c/td\u003e\n    \u003c/tr\u003e\n  \u003c/tbody\u003e\n\u003c/table\u003e\n\u003cp\u003e5 rows × 21 columns\u003c/p\u003e\n\u003c/div\u003e",
                        "text/plain": "               id             date    price  bedrooms  bathrooms  sqft_living  \\\n17384  1453602313  20141029T000000   297000         2       1.50         1430   \n722    2225059214  20140808T000000  1578000         4       3.25         4670   \n2680   2768000270  20140625T000000   562100         2       0.75         1440   \n18754  6819100040  20140624T000000   631500         2       1.00         1130   \n14554  4027700666  20150426T000000   780000         4       2.50         3180   \n\n       sqft_lot  floors  waterfront  view  ...  grade  sqft_above  \\\n17384      1650     3.0           0     0  ...      7        1430   \n722       51836     2.0           0     0  ...     12        4670   \n2680       3700     1.0           0     0  ...      7        1200   \n18754      2640     1.0           0     0  ...      8        1130   \n14554      9603     2.0           0     2  ...      9        3180   \n\n       sqft_basement  yr_built  yr_renovated  zipcode      lat     long  \\\n17384              0      1999             0    98125  47.7222 -122.290   \n722                0      1988             0    98005  47.6350 -122.164   \n2680             240      1914             0    98107  47.6707 -122.364   \n18754              0      1927             0    98109  47.6438 -122.357   \n14554              0      2002             0    98155  47.7717 -122.277   \n\n       sqft_living15  sqft_lot15  \n17384           1430        1650  \n722             4230       41075  \n2680            1440        4300  \n18754           1680        3200  \n14554           2440       15261  \n\n[5 rows x 21 columns]"
                    },
                    "execution_count": 7,
                    "metadata": {},
                    "output_type": "execute_result"
                }
            ],
            "source": [
                "# Selects 1% of the data\n",
                "# NOTE: Do not change the random_state=0, else the autograder will fail\n",
                "sales = sales.sample(frac=0.01, random_state=0) \n",
                "\n",
                "print(f'Number of points: {len(sales)}')\n",
                "sales.head()"
            ]
        },
        {
            "attachments": {},
            "cell_type": "markdown",
            "metadata": {},
            "source": [
                "## Q1 - Feature Engineering\n",
                "First, we do a bit of feature engineering by creating features that represent the squares of each feature and the square root of each feature. One benefit of using regularization is you can include more features than necessary and you don't have to be as worried about overfitting since the model is regularized.\n",
                "\n",
                "In the following cell, complete the code inside the loop to compute the square of each feature the the square root of each feature. *Note*: While we did mention there are some helpful classes in scikit-learn for computing polynomial features, for this assignment we are just computing the square and the square root so we recommend writing the code in pandas yourself."
            ]
        },
        {
            "cell_type": "code",
            "execution_count": 8,
            "metadata": {},
            "outputs": [
                {
                    "data": {
                        "text/html": "\u003cdiv\u003e\n\u003cstyle scoped\u003e\n    .dataframe tbody tr th:only-of-type {\n        vertical-align: middle;\n    }\n\n    .dataframe tbody tr th {\n        vertical-align: top;\n    }\n\n    .dataframe thead th {\n        text-align: right;\n    }\n\u003c/style\u003e\n\u003ctable border=\"1\" class=\"dataframe\"\u003e\n  \u003cthead\u003e\n    \u003ctr style=\"text-align: right;\"\u003e\n      \u003cth\u003e\u003c/th\u003e\n      \u003cth\u003ebedrooms\u003c/th\u003e\n      \u003cth\u003ebedrooms_square\u003c/th\u003e\n      \u003cth\u003ebedrooms_sqrt\u003c/th\u003e\n      \u003cth\u003ebathrooms\u003c/th\u003e\n      \u003cth\u003ebathrooms_square\u003c/th\u003e\n      \u003cth\u003ebathrooms_sqrt\u003c/th\u003e\n      \u003cth\u003esqft_living\u003c/th\u003e\n      \u003cth\u003esqft_living_square\u003c/th\u003e\n      \u003cth\u003esqft_living_sqrt\u003c/th\u003e\n      \u003cth\u003esqft_lot\u003c/th\u003e\n      \u003cth\u003e...\u003c/th\u003e\n      \u003cth\u003esqft_above_sqrt\u003c/th\u003e\n      \u003cth\u003esqft_basement\u003c/th\u003e\n      \u003cth\u003esqft_basement_square\u003c/th\u003e\n      \u003cth\u003esqft_basement_sqrt\u003c/th\u003e\n      \u003cth\u003eyr_built\u003c/th\u003e\n      \u003cth\u003eyr_built_square\u003c/th\u003e\n      \u003cth\u003eyr_built_sqrt\u003c/th\u003e\n      \u003cth\u003eyr_renovated\u003c/th\u003e\n      \u003cth\u003eyr_renovated_square\u003c/th\u003e\n      \u003cth\u003eyr_renovated_sqrt\u003c/th\u003e\n    \u003c/tr\u003e\n  \u003c/thead\u003e\n  \u003ctbody\u003e\n    \u003ctr\u003e\n      \u003cth\u003e17384\u003c/th\u003e\n      \u003ctd\u003e2\u003c/td\u003e\n      \u003ctd\u003e4\u003c/td\u003e\n      \u003ctd\u003e1.414214\u003c/td\u003e\n      \u003ctd\u003e1.50\u003c/td\u003e\n      \u003ctd\u003e2.2500\u003c/td\u003e\n      \u003ctd\u003e1.224745\u003c/td\u003e\n      \u003ctd\u003e1430\u003c/td\u003e\n      \u003ctd\u003e2044900\u003c/td\u003e\n      \u003ctd\u003e37.815341\u003c/td\u003e\n      \u003ctd\u003e1650\u003c/td\u003e\n      \u003ctd\u003e...\u003c/td\u003e\n      \u003ctd\u003e37.815341\u003c/td\u003e\n      \u003ctd\u003e0\u003c/td\u003e\n      \u003ctd\u003e0\u003c/td\u003e\n      \u003ctd\u003e0.000000\u003c/td\u003e\n      \u003ctd\u003e1999\u003c/td\u003e\n      \u003ctd\u003e3996001\u003c/td\u003e\n      \u003ctd\u003e44.710178\u003c/td\u003e\n      \u003ctd\u003e0\u003c/td\u003e\n      \u003ctd\u003e0\u003c/td\u003e\n      \u003ctd\u003e0.0\u003c/td\u003e\n    \u003c/tr\u003e\n    \u003ctr\u003e\n      \u003cth\u003e722\u003c/th\u003e\n      \u003ctd\u003e4\u003c/td\u003e\n      \u003ctd\u003e16\u003c/td\u003e\n      \u003ctd\u003e2.000000\u003c/td\u003e\n      \u003ctd\u003e3.25\u003c/td\u003e\n      \u003ctd\u003e10.5625\u003c/td\u003e\n      \u003ctd\u003e1.802776\u003c/td\u003e\n      \u003ctd\u003e4670\u003c/td\u003e\n      \u003ctd\u003e21808900\u003c/td\u003e\n      \u003ctd\u003e68.337398\u003c/td\u003e\n      \u003ctd\u003e51836\u003c/td\u003e\n      \u003ctd\u003e...\u003c/td\u003e\n      \u003ctd\u003e68.337398\u003c/td\u003e\n      \u003ctd\u003e0\u003c/td\u003e\n      \u003ctd\u003e0\u003c/td\u003e\n      \u003ctd\u003e0.000000\u003c/td\u003e\n      \u003ctd\u003e1988\u003c/td\u003e\n      \u003ctd\u003e3952144\u003c/td\u003e\n      \u003ctd\u003e44.586994\u003c/td\u003e\n      \u003ctd\u003e0\u003c/td\u003e\n      \u003ctd\u003e0\u003c/td\u003e\n      \u003ctd\u003e0.0\u003c/td\u003e\n    \u003c/tr\u003e\n    \u003ctr\u003e\n      \u003cth\u003e2680\u003c/th\u003e\n      \u003ctd\u003e2\u003c/td\u003e\n      \u003ctd\u003e4\u003c/td\u003e\n      \u003ctd\u003e1.414214\u003c/td\u003e\n      \u003ctd\u003e0.75\u003c/td\u003e\n      \u003ctd\u003e0.5625\u003c/td\u003e\n      \u003ctd\u003e0.866025\u003c/td\u003e\n      \u003ctd\u003e1440\u003c/td\u003e\n      \u003ctd\u003e2073600\u003c/td\u003e\n      \u003ctd\u003e37.947332\u003c/td\u003e\n      \u003ctd\u003e3700\u003c/td\u003e\n      \u003ctd\u003e...\u003c/td\u003e\n      \u003ctd\u003e34.641016\u003c/td\u003e\n      \u003ctd\u003e240\u003c/td\u003e\n      \u003ctd\u003e57600\u003c/td\u003e\n      \u003ctd\u003e15.491933\u003c/td\u003e\n      \u003ctd\u003e1914\u003c/td\u003e\n      \u003ctd\u003e3663396\u003c/td\u003e\n      \u003ctd\u003e43.749286\u003c/td\u003e\n      \u003ctd\u003e0\u003c/td\u003e\n      \u003ctd\u003e0\u003c/td\u003e\n      \u003ctd\u003e0.0\u003c/td\u003e\n    \u003c/tr\u003e\n    \u003ctr\u003e\n      \u003cth\u003e18754\u003c/th\u003e\n      \u003ctd\u003e2\u003c/td\u003e\n      \u003ctd\u003e4\u003c/td\u003e\n      \u003ctd\u003e1.414214\u003c/td\u003e\n      \u003ctd\u003e1.00\u003c/td\u003e\n      \u003ctd\u003e1.0000\u003c/td\u003e\n      \u003ctd\u003e1.000000\u003c/td\u003e\n      \u003ctd\u003e1130\u003c/td\u003e\n      \u003ctd\u003e1276900\u003c/td\u003e\n      \u003ctd\u003e33.615473\u003c/td\u003e\n      \u003ctd\u003e2640\u003c/td\u003e\n      \u003ctd\u003e...\u003c/td\u003e\n      \u003ctd\u003e33.615473\u003c/td\u003e\n      \u003ctd\u003e0\u003c/td\u003e\n      \u003ctd\u003e0\u003c/td\u003e\n      \u003ctd\u003e0.000000\u003c/td\u003e\n      \u003ctd\u003e1927\u003c/td\u003e\n      \u003ctd\u003e3713329\u003c/td\u003e\n      \u003ctd\u003e43.897608\u003c/td\u003e\n      \u003ctd\u003e0\u003c/td\u003e\n      \u003ctd\u003e0\u003c/td\u003e\n      \u003ctd\u003e0.0\u003c/td\u003e\n    \u003c/tr\u003e\n    \u003ctr\u003e\n      \u003cth\u003e14554\u003c/th\u003e\n      \u003ctd\u003e4\u003c/td\u003e\n      \u003ctd\u003e16\u003c/td\u003e\n      \u003ctd\u003e2.000000\u003c/td\u003e\n      \u003ctd\u003e2.50\u003c/td\u003e\n      \u003ctd\u003e6.2500\u003c/td\u003e\n      \u003ctd\u003e1.581139\u003c/td\u003e\n      \u003ctd\u003e3180\u003c/td\u003e\n      \u003ctd\u003e10112400\u003c/td\u003e\n      \u003ctd\u003e56.391489\u003c/td\u003e\n      \u003ctd\u003e9603\u003c/td\u003e\n      \u003ctd\u003e...\u003c/td\u003e\n      \u003ctd\u003e56.391489\u003c/td\u003e\n      \u003ctd\u003e0\u003c/td\u003e\n      \u003ctd\u003e0\u003c/td\u003e\n      \u003ctd\u003e0.000000\u003c/td\u003e\n      \u003ctd\u003e2002\u003c/td\u003e\n      \u003ctd\u003e4008004\u003c/td\u003e\n      \u003ctd\u003e44.743715\u003c/td\u003e\n      \u003ctd\u003e0\u003c/td\u003e\n      \u003ctd\u003e0\u003c/td\u003e\n      \u003ctd\u003e0.0\u003c/td\u003e\n    \u003c/tr\u003e\n  \u003c/tbody\u003e\n\u003c/table\u003e\n\u003cp\u003e5 rows × 39 columns\u003c/p\u003e\n\u003c/div\u003e",
                        "text/plain": "       bedrooms  bedrooms_square  bedrooms_sqrt  bathrooms  bathrooms_square  \\\n17384         2                4       1.414214       1.50            2.2500   \n722           4               16       2.000000       3.25           10.5625   \n2680          2                4       1.414214       0.75            0.5625   \n18754         2                4       1.414214       1.00            1.0000   \n14554         4               16       2.000000       2.50            6.2500   \n\n       bathrooms_sqrt  sqft_living  sqft_living_square  sqft_living_sqrt  \\\n17384        1.224745         1430             2044900         37.815341   \n722          1.802776         4670            21808900         68.337398   \n2680         0.866025         1440             2073600         37.947332   \n18754        1.000000         1130             1276900         33.615473   \n14554        1.581139         3180            10112400         56.391489   \n\n       sqft_lot  ...  sqft_above_sqrt  sqft_basement  sqft_basement_square  \\\n17384      1650  ...        37.815341              0                     0   \n722       51836  ...        68.337398              0                     0   \n2680       3700  ...        34.641016            240                 57600   \n18754      2640  ...        33.615473              0                     0   \n14554      9603  ...        56.391489              0                     0   \n\n       sqft_basement_sqrt  yr_built  yr_built_square  yr_built_sqrt  \\\n17384            0.000000      1999          3996001      44.710178   \n722              0.000000      1988          3952144      44.586994   \n2680            15.491933      1914          3663396      43.749286   \n18754            0.000000      1927          3713329      43.897608   \n14554            0.000000      2002          4008004      44.743715   \n\n       yr_renovated  yr_renovated_square  yr_renovated_sqrt  \n17384             0                    0                0.0  \n722               0                    0                0.0  \n2680              0                    0                0.0  \n18754             0                    0                0.0  \n14554             0                    0                0.0  \n\n[5 rows x 39 columns]"
                    },
                    "execution_count": 8,
                    "metadata": {},
                    "output_type": "execute_result"
                }
            ],
            "source": [
                "### edTest(test_feature_extraction) ###\n",
                "\n",
                "from math import sqrt\n",
                "\n",
                "# All of the features of interest\n",
                "selected_inputs = [\n",
                "    'bedrooms', \n",
                "    'bathrooms',\n",
                "    'sqft_living', \n",
                "    'sqft_lot', \n",
                "    'floors', \n",
                "    'waterfront', \n",
                "    'view', \n",
                "    'condition', \n",
                "    'grade',\n",
                "    'sqft_above',\n",
                "    'sqft_basement',\n",
                "    'yr_built', \n",
                "    'yr_renovated'\n",
                "]\n",
                "\n",
                "# Compute the square and sqrt of each feature\n",
                "# At the end of the for loop: \n",
                "#    - sales should have additional columns for the square and \n",
                "#      sqrt of each of the selected inputs.\n",
                "#    - all_features should contain the names (as strings) of all \n",
                "#      the features we care about.\n",
                "all_features = []\n",
                "for feature_name in selected_inputs:\n",
                "    \n",
                "    squared_feature_name = feature_name + '_square'\n",
                "    sqrt_feature_name = feature_name + '_sqrt'\n",
                "    \n",
                "    # TODO compute the square of the column feature_name, add it to sales as a \n",
                "    # new column, squared_feature_name\n",
                "    aux_square = sales[feature_name]**(2)\n",
                "    sales[squared_feature_name] = aux_square\n",
                "    \n",
                "    # TODO compute the sqrt of the column feature_name, add it to sales as a\n",
                "    # new column, sqrt_feature_name\n",
                "    aux_sqrt = sales[feature_name]**(0.5)\n",
                "    sales[sqrt_feature_name] = aux_sqrt\n",
                "\n",
                "    # Add the feature names to all_features\n",
                "    all_features.extend([feature_name, squared_feature_name, sqrt_feature_name])\n",
                "    \n",
                "# Split the data into features and price\n",
                "price = sales['price']\n",
                "sales = sales[all_features]\n",
                "\n",
                "sales.head()"
            ]
        },
        {
            "attachments": {},
            "cell_type": "markdown",
            "metadata": {},
            "source": [
                "## Split Data\n",
                "Next, we need to split our data into our train, validation, and test data. To do this, we will use [train_test_split](https://scikit-learn.org/stable/modules/generated/sklearn.model_selection.train_test_split.html) function to split up the dataset. For this assignment we will use 70% of the data to train, 10% for validation, and 20% to test. \n",
                "\n",
                "**NOTE**: Do NOT change `random_state=6`, else the autograder will fail."
            ]
        },
        {
            "cell_type": "code",
            "execution_count": 9,
            "metadata": {},
            "outputs": [],
            "source": [
                "from sklearn.model_selection import train_test_split\n",
                "\n",
                "# NOTE: Do not change the random_state=6, else the autograder will fail\n",
                "sales_train_and_validation, sales_test, price_train_and_validation, price_test = \\\n",
                "    train_test_split(sales, price, test_size=0.2, random_state=6)\n",
                "sales_train, sales_validation, price_train, price_validation = \\\n",
                "    train_test_split(sales_train_and_validation, price_train_and_validation, test_size=.125, random_state=6) # .10 (validation) of .80 (train + validation)"
            ]
        },
        {
            "attachments": {},
            "cell_type": "markdown",
            "metadata": {},
            "source": [
                "## Q2 - Standardization"
            ]
        },
        {
            "attachments": {},
            "cell_type": "markdown",
            "metadata": {},
            "source": [
                "We first need to do a little bit more pre-processing to prepare the data for model training. Models like Ridge and LASSO assume the input features are standardized (mean 0, std. dev. 1) and the target values are centered (mean 0). If we do not do this, we might get some unpredictable results since we violate the assumption of the models!\n",
                "\n",
                "So in the next cell, you should standardize the data in train, validation, and test using the following instructions:\n",
                "* Use the [StandardScaler](https://scikit-learn.org/stable/modules/preprocessing.html#standardization-or-mean-removal-and-variance-scaling) preprocessor provided by scikit-learn to do the standardization for you. \n",
                "  * Note that you first `fit` it to the data so it can compute the mean/standard deviation and then `transform` to actually change the data. You'll find the examples on this documentation very helpful.\n",
                "* You should only do this transformation on the features we are using of the data (not any of the other data inputs or the target values). \n",
                "* This next note will sound a bit weird, but it's an important step. **You should only do the standardization calculation (e.g., the mean and the standard deviation) on the *training* set and use those statistics to scale the validation and test set**. In other words, the validation and test set should be standardized using the statistics from the training data so that you are using a consistent transformation throughout. This is important to do since you need to apply the same transformation process to every step of the data and you shouldn't use statistics from data outside of your training set in your transformations."
            ]
        },
        {
            "cell_type": "code",
            "execution_count": 10,
            "metadata": {},
            "outputs": [],
            "source": [
                "### edTest(test_standardization) ###\n",
                "\n",
                "from sklearn.preprocessing import StandardScaler\n",
                "scaler = StandardScaler()\n",
                "scaler.fit(sales_train, price_train)\n",
                "# TODO preprocess the training, validation, and test data\n",
                "\n",
                "sales_train_standardized = scaler.transform(sales_train)\n",
                "sales_validation_standardized = scaler.transform(sales_validation)\n",
                "sales_test_standardized = scaler.transform(sales_test)"
            ]
        },
        {
            "attachments": {},
            "cell_type": "markdown",
            "metadata": {},
            "source": [
                "# Linear Regression \n",
                "## Q3) Linear Regression Baseline\n",
                "\n",
                "As a baseline, we will first, train a regular `LinearRegression` model on the data using the features in `all_features` and report its **test RMSE**. Write the code in the cell below to calculate the answer. Save your result in a variable named `test_rmse_unregularized`.\n",
                ""
            ]
        },
        {
            "cell_type": "code",
            "execution_count": 11,
            "metadata": {},
            "outputs": [
                {
                    "name": "stdout",
                    "output_type": "stream",
                    "text": "Test RMSE 384955.7993576684\n"
                }
            ],
            "source": [
                "### edTest(test_train_linear_regression) ###\n",
                "\n",
                "from sklearn.linear_model import LinearRegression\n",
                "from sklearn.metrics import mean_squared_error\n",
                "\n",
                "# TODO Train a linear regression model\n",
                "model = LinearRegression()\n",
                "model.fit(sales_train_standardized, price_train)\n",
                "predictions = model.predict(sales_test_standardized)\n",
                "rmse_test_unregularized = (mean_squared_error(predictions, price_test))**(0.5)\n",
                "print(\"Test RMSE\", rmse_test_unregularized)"
            ]
        },
        {
            "attachments": {},
            "cell_type": "markdown",
            "metadata": {},
            "source": [
                "--- \n",
                "# Ridge Regression\n",
                "At this point, you might be looking forward at the homework and seeing how long it is! We want to provide a lot of instruction so you aren't left completely in the dark on what to do, but we are also trying to avoid just giving you a bunch of starter code and just having you fill in the blanks. This section is very long because it tries to give really detailed instructions on what to compute. The next section on LASSO has almost exactly the same steps so it will be a lot easier doing that part of the assignment!\n",
                "\n",
                "In this section, we will do some **hyper-parameter tuning** to find the optimal setting of the regularization constant $\\lambda$ for Ridge Regression. Remember that $\\lambda$ is the coefficient that controls how much the model is penalized for having large weights in the optimization function.\n",
                "\n",
                "$$\\hat{w}_{ridge} = \\min_w MSE(w) + \\lambda \\left\\lVert w \\right\\rVert_2^2$$\n",
                "\n",
                "where $\\left\\lVert w \\right\\rVert_2^2 = \\sum_{j=1}^D w_j^2$ is the $l_2$-norm of the parameters. By default, `sklearn`'s `Ridge` class does not regularize the intercept.\n",
                "\n",
                "## Q4) Train Ridge Models\n",
                "For this part of the assignment, you will be writing code to find the optimal setting of the penalty $\\lambda$. Below, we describe what steps you will want to have in your code to compute these values:\n",
                "\n",
                "*Implementation Details*\n",
                "* Use the following choices of $l_2$ penalty: $[10^{-5}, 10^{-4}, ..., 10^4, 10^5]$. In Python, you can create a list of these numbers using `np.logspace(-5, 5, 11, base=10)`. \n",
                "* Use the [Ridge](https://scikit-learn.org/stable/modules/generated/sklearn.linear_model.Ridge.html#sklearn.linear_model.Ridge) class from sklearn to train a Ridge Regression model on the **training** data. The **only** arguments you need to pass when constructing the Ridge model are $\\lambda$, which lets you specify what you want the $l_2$ penalty to be. (NOTE: sklearn's Ridge class uses `alpha` instead of `lambda`; only the name is different but they function in the same way.)\n",
                "* Evaluate both the training error and the validation error for the model by reporting the **RMSE** of each dataset.\n",
                "* **Put all of your results in a pandas `DataFrame` named `ridge_data`** so you can analyze them later. The `ridge_data` should have a row for each $l_2$ penalty you tried and should have the following columns:\n",
                "  * `l2_penalty`: The $l_2$ penalty for that row\n",
                "  * `model`: The actual `Ridge` model object that was trained with that $l_2$ penalty\n",
                "  * `rmse_train`: The training RMSE for that model\n",
                "  * `rmse_validation`: The validation RMSE for that model\n",
                "* To build up this `DataFrame`, we recommend first building up a list of dictionary objects and then converting that to a `DataFrame`. For example, the following code would produce the following `pandas.DataFrame`.\n",
                "\n",
                "  ```python\n",
                "  data = []\n",
                "  for i in range(3):\n",
                "      data.append({\n",
                "          'col_a': i,\n",
                "          'col_b': 2 * i\n",
                "      }\n",
                "  data_frame = pd.DataFrame(data)\n",
                "  ```\n",
                "\n",
                "  | col_a | col_b | \n",
                "  |-------|-------|\n",
                "  |   0   |   0   | \n",
                "  |   1   |   2   | \n",
                "  |   2   |   4   |\n",
                "\n",
                "*Hints: Here is a development strategy that you might find helpful*\n",
                "* You will need a loop to loop over the possible $l_2$ penalties. Try writing the code without a loop first with just one setting of $\\lambda$. Try writing a lot of the code without a loop first if you're stuck to help you figure out how the pieces go together. You can safely ignore building up the result `DataFrame` at first, just print all the information out to start! \n",
                "* If you are running into troubles writing your loop, try to print values out to investigate what's going wrong.\n",
                "* Remember to use RMSE for calculating the error!\n",
                ""
            ]
        },
        {
            "cell_type": "code",
            "execution_count": 12,
            "metadata": {},
            "outputs": [
                {
                    "data": {
                        "text/html": "\u003cdiv\u003e\n\u003cstyle scoped\u003e\n    .dataframe tbody tr th:only-of-type {\n        vertical-align: middle;\n    }\n\n    .dataframe tbody tr th {\n        vertical-align: top;\n    }\n\n    .dataframe thead th {\n        text-align: right;\n    }\n\u003c/style\u003e\n\u003ctable border=\"1\" class=\"dataframe\"\u003e\n  \u003cthead\u003e\n    \u003ctr style=\"text-align: right;\"\u003e\n      \u003cth\u003e\u003c/th\u003e\n      \u003cth\u003el2_penalty\u003c/th\u003e\n      \u003cth\u003emodel\u003c/th\u003e\n      \u003cth\u003ermse_train\u003c/th\u003e\n      \u003cth\u003ermse_validation\u003c/th\u003e\n    \u003c/tr\u003e\n  \u003c/thead\u003e\n  \u003ctbody\u003e\n    \u003ctr\u003e\n      \u003cth\u003e0\u003c/th\u003e\n      \u003ctd\u003e0.00001\u003c/td\u003e\n      \u003ctd\u003eRidge(alpha=np.float64(1e-05))\u003c/td\u003e\n      \u003ctd\u003e146188.566942\u003c/td\u003e\n      \u003ctd\u003e392112.522241\u003c/td\u003e\n    \u003c/tr\u003e\n    \u003ctr\u003e\n      \u003cth\u003e1\u003c/th\u003e\n      \u003ctd\u003e0.00010\u003c/td\u003e\n      \u003ctd\u003eRidge(alpha=np.float64(0.0001))\u003c/td\u003e\n      \u003ctd\u003e146210.884175\u003c/td\u003e\n      \u003ctd\u003e392721.061566\u003c/td\u003e\n    \u003c/tr\u003e\n    \u003ctr\u003e\n      \u003cth\u003e2\u003c/th\u003e\n      \u003ctd\u003e0.00100\u003c/td\u003e\n      \u003ctd\u003eRidge(alpha=np.float64(0.001))\u003c/td\u003e\n      \u003ctd\u003e146610.292053\u003c/td\u003e\n      \u003ctd\u003e393099.892724\u003c/td\u003e\n    \u003c/tr\u003e\n    \u003ctr\u003e\n      \u003cth\u003e3\u003c/th\u003e\n      \u003ctd\u003e0.01000\u003c/td\u003e\n      \u003ctd\u003eRidge(alpha=np.float64(0.01))\u003c/td\u003e\n      \u003ctd\u003e147967.692703\u003c/td\u003e\n      \u003ctd\u003e369263.393012\u003c/td\u003e\n    \u003c/tr\u003e\n    \u003ctr\u003e\n      \u003cth\u003e4\u003c/th\u003e\n      \u003ctd\u003e0.10000\u003c/td\u003e\n      \u003ctd\u003eRidge(alpha=np.float64(0.1))\u003c/td\u003e\n      \u003ctd\u003e151619.819399\u003c/td\u003e\n      \u003ctd\u003e330722.661247\u003c/td\u003e\n    \u003c/tr\u003e\n    \u003ctr\u003e\n      \u003cth\u003e5\u003c/th\u003e\n      \u003ctd\u003e1.00000\u003c/td\u003e\n      \u003ctd\u003eRidge(alpha=np.float64(1.0))\u003c/td\u003e\n      \u003ctd\u003e154932.690092\u003c/td\u003e\n      \u003ctd\u003e302623.478585\u003c/td\u003e\n    \u003c/tr\u003e\n    \u003ctr\u003e\n      \u003cth\u003e6\u003c/th\u003e\n      \u003ctd\u003e10.00000\u003c/td\u003e\n      \u003ctd\u003eRidge(alpha=np.float64(10.0))\u003c/td\u003e\n      \u003ctd\u003e161876.430362\u003c/td\u003e\n      \u003ctd\u003e282876.469131\u003c/td\u003e\n    \u003c/tr\u003e\n    \u003ctr\u003e\n      \u003cth\u003e7\u003c/th\u003e\n      \u003ctd\u003e100.00000\u003c/td\u003e\n      \u003ctd\u003eRidge(alpha=np.float64(100.0))\u003c/td\u003e\n      \u003ctd\u003e181371.431142\u003c/td\u003e\n      \u003ctd\u003e283001.128683\u003c/td\u003e\n    \u003c/tr\u003e\n    \u003ctr\u003e\n      \u003cth\u003e8\u003c/th\u003e\n      \u003ctd\u003e1000.00000\u003c/td\u003e\n      \u003ctd\u003eRidge(alpha=np.float64(1000.0))\u003c/td\u003e\n      \u003ctd\u003e244296.061524\u003c/td\u003e\n      \u003ctd\u003e341022.423065\u003c/td\u003e\n    \u003c/tr\u003e\n    \u003ctr\u003e\n      \u003cth\u003e9\u003c/th\u003e\n      \u003ctd\u003e10000.00000\u003c/td\u003e\n      \u003ctd\u003eRidge(alpha=np.float64(10000.0))\u003c/td\u003e\n      \u003ctd\u003e328840.881425\u003c/td\u003e\n      \u003ctd\u003e486101.010743\u003c/td\u003e\n    \u003c/tr\u003e\n    \u003ctr\u003e\n      \u003cth\u003e10\u003c/th\u003e\n      \u003ctd\u003e100000.00000\u003c/td\u003e\n      \u003ctd\u003eRidge(alpha=np.float64(100000.0))\u003c/td\u003e\n      \u003ctd\u003e353757.594802\u003c/td\u003e\n      \u003ctd\u003e528264.491801\u003c/td\u003e\n    \u003c/tr\u003e\n  \u003c/tbody\u003e\n\u003c/table\u003e\n\u003c/div\u003e",
                        "text/plain": "      l2_penalty                              model     rmse_train  \\\n0        0.00001     Ridge(alpha=np.float64(1e-05))  146188.566942   \n1        0.00010    Ridge(alpha=np.float64(0.0001))  146210.884175   \n2        0.00100     Ridge(alpha=np.float64(0.001))  146610.292053   \n3        0.01000      Ridge(alpha=np.float64(0.01))  147967.692703   \n4        0.10000       Ridge(alpha=np.float64(0.1))  151619.819399   \n5        1.00000       Ridge(alpha=np.float64(1.0))  154932.690092   \n6       10.00000      Ridge(alpha=np.float64(10.0))  161876.430362   \n7      100.00000     Ridge(alpha=np.float64(100.0))  181371.431142   \n8     1000.00000    Ridge(alpha=np.float64(1000.0))  244296.061524   \n9    10000.00000   Ridge(alpha=np.float64(10000.0))  328840.881425   \n10  100000.00000  Ridge(alpha=np.float64(100000.0))  353757.594802   \n\n    rmse_validation  \n0     392112.522241  \n1     392721.061566  \n2     393099.892724  \n3     369263.393012  \n4     330722.661247  \n5     302623.478585  \n6     282876.469131  \n7     283001.128683  \n8     341022.423065  \n9     486101.010743  \n10    528264.491801  "
                    },
                    "execution_count": 12,
                    "metadata": {},
                    "output_type": "execute_result"
                }
            ],
            "source": [
                "### edTest(test_ridge) ###\n",
                "\n",
                "from sklearn.linear_model import Ridge\n",
                "\n",
                "l2_lambdas = np.logspace(-5, 5, 11, base = 10)\n",
                "\n",
                "# TODO Implement code to evaluate Ridge Regression with various l2 Penalties\n",
                "# Note that Ridge uses \"alpha\" to refer to the variable we have been calling \"lambda\"\n",
                "data = []\n",
                "for i in range(len(l2_lambdas)):\n",
                "    model = Ridge(alpha=l2_lambdas[i], fit_intercept=True, copy_X=True, max_iter=None, tol=0.0001, solver='auto', positive=False, random_state=None)\n",
                "    model.fit(sales_train_standardized, price_train)\n",
                "\n",
                "    predictions_train = model.predict(sales_train_standardized)\n",
                "    rmse_train = (mean_squared_error(predictions_train, price_train))**(0.5)\n",
                "\n",
                "    predictions_validation = model.predict(sales_validation_standardized)\n",
                "    rmse_validation = (mean_squared_error(predictions_validation, price_validation))**(0.5)\n",
                "    data.append({\n",
                "        'l2_penalty': l2_lambdas[i],\n",
                "        'model': model,\n",
                "        'rmse_train': rmse_train,\n",
                "        'rmse_validation': rmse_validation,\n",
                "    })\n",
                "ridge_data = pd.DataFrame(data)\n",
                "ridge_data"
            ]
        },
        {
            "attachments": {},
            "cell_type": "markdown",
            "metadata": {},
            "source": [
                "Next, let's investigate how the penalty affects the train and validation error by running the following plotting code. "
            ]
        },
        {
            "cell_type": "code",
            "execution_count": 13,
            "metadata": {},
            "outputs": [
                {
                    "data": {
                        "text/plain": "\u003cmatplotlib.legend.Legend at 0x7f4033c59940\u003e"
                    },
                    "execution_count": 13,
                    "metadata": {},
                    "output_type": "execute_result"
                },
                {
                    "data": {
                        "image/png": "[encoded data removed]",
                        "text/plain": "\u003cFigure size 640x480 with 1 Axes\u003e"
                    },
                    "metadata": {},
                    "output_type": "display_data"
                }
            ],
            "source": [
                "# Plot the validation RMSE as a blue line with dots\n",
                "plt.plot(ridge_data['l2_penalty'], ridge_data['rmse_validation'], \n",
                "         'b-^', label='Validation')\n",
                "# Plot the train RMSE as a red line dots\n",
                "plt.plot(ridge_data['l2_penalty'], ridge_data['rmse_train'], \n",
                "         'r-o', label='Train')\n",
                "\n",
                "# Set y-limits\n",
                "rmse_max = max(ridge_data['rmse_train'].max(), ridge_data['rmse_validation'].max())\n",
                "rmse_max *= 1.1  # Give a little buffer\n",
                "plt.ylim(0, rmse_max)\n",
                "\n",
                "# Make the x-axis log scale for readability\n",
                "plt.xscale('log')\n",
                "\n",
                "# Label the axes and make a legend\n",
                "plt.xlabel('l2_penalty (log scale)')\n",
                "plt.ylabel('RMSE')\n",
                "plt.legend()"
            ]
        },
        {
            "attachments": {},
            "cell_type": "markdown",
            "metadata": {},
            "source": [
                "Next, we want to actually look at which model we think will perform best. First we define a helper function that will be used to inspect the model parameters."
            ]
        },
        {
            "cell_type": "code",
            "execution_count": 14,
            "metadata": {},
            "outputs": [],
            "source": [
                "def print_coefficients(model, features):\n",
                "    \"\"\"\n",
                "    This function takes in a model column and a features column. \n",
                "    And prints the coefficient along with its feature name.\n",
                "    \"\"\"\n",
                "    feats = list(zip(features, model.coef_))\n",
                "    print(*feats, sep = \"\\n\")"
            ]
        },
        {
            "attachments": {},
            "cell_type": "markdown",
            "metadata": {},
            "source": [
                "## Q5 - Inspecting Coefficients\n",
                "In the cell below, write code that uses the `ridge_data` `DataFrame` to select which L2 penalty we would choose based on the evaluations we did in the previous section. Do not hard-code the best model parameters, write code to find them from the DataFrame you computed. Compute the following: \n",
                "\n",
                "* **Q5.1** -  The best L2 penalty based on the model evaluations. Save this L2 penalty in a variable called `best_l2`.\n",
                "* **Q5.2** - The best model's error on the **test** dataset. Report the number as an RMSE stored in a variable called `rmse_test_ridge`.\n",
                "* **Q5.3** The number of coefficients in the best model that are 0. Save this in a variable called `num_zero_coeffs_ridge`. Use the `print_coefficients` function to help you check your result.\n",
                "\n",
                "Recall that you **may NOT hardcode** values and must instead write code to compute the values; we are testing the data on a slightly different dataset, so hardcoded values from this dataset will be marked as wrong.\n",
                "\n",
                "Use the next cell answer all three questions. You should also print out the values so you can inspect them.\n",
                "\n",
                "### Tip\n",
                "\n",
                "A `pandas` `DataFrame` has a method `idxmin()` function to find the index of the smallest value in a column, and a property `loc` to access a specified index. As an example, suppose we had a `DataFrame` named `df`:\n",
                "\n",
                "| a | b | c |\n",
                "|---|---|---|\n",
                "| 1 | 2 | 3 |\n",
                "| 2 | 1 | 3 |\n",
                "| 3 | 2 | 1 |\n",
                "\n",
                "If we wrote the code \n",
                "```python\n",
                "index = df['b'].idxmin()\n",
                "row = df.loc[index]\n",
                "```\n",
                "\n",
                "It would first find the index of the smallest value in the `b` column and then uses the `.loc` property of the `DataFrame` to access that particular row. It will return a `Series` object (basically a Python dictionary) which means you can use syntax like `row['a']` to access a particular column of that row."
            ]
        },
        {
            "cell_type": "code",
            "execution_count": 15,
            "metadata": {},
            "outputs": [
                {
                    "name": "stdout",
                    "output_type": "stream",
                    "text": "L2 Penalty 10.0\nTest RSME 354624.8472519471\nNum Zero Coeffs 0\n"
                }
            ],
            "source": [
                "### edTest(test_ridge_analysis) ###\n",
                "\n",
                "# TODO Print information about best l2 model\n",
                "indexL2 = ridge_data['rmse_validation'].idxmin()\n",
                "best_row = ridge_data.loc[indexL2]\n",
                "best_l2 = best_row['l2_penalty']\n",
                "\n",
                "best_model = best_row['model']\n",
                "predictions_test = best_model.predict(sales_test_standardized)\n",
                "rmse_test_ridge = (mean_squared_error(predictions_test, price_test))**(0.5)\n",
                "\n",
                "best_model_coef = best_model.coef_\n",
                "num = 0\n",
                "for i in range(len(best_model_coef)):\n",
                "  if(best_model_coef[i] == 0):\n",
                "    num = num+1\n",
                "num_zero_coeffs_ridge = num\n",
                "\n",
                "# Print your results to help you check their correctness.\n",
                "print('L2 Penalty',  best_l2)\n",
                "print('Test RSME', rmse_test_ridge)\n",
                "print('Num Zero Coeffs', num_zero_coeffs_ridge)"
            ]
        },
        {
            "attachments": {},
            "cell_type": "markdown",
            "metadata": {},
            "source": [
                "--- \n",
                "# LASSO Regression\n",
                "In this section you will do basically the exact same analysis you did with Ridge Regression, but using LASSO Regression instead. It's okay if your code for this section looks very similar to your code for the last section. \n",
                "\n",
                "Remember that for LASSO we choose the parameters that minimize this quality metric instead \n",
                "\n",
                "$$\\hat{w}_{LASSO} = \\min_w MSE(w) + \\lambda \\left\\lVert w \\right\\rVert_1$$\n",
                "\n",
                "where $\\left\\lVert w \\right\\rVert_1 = \\sum_{j=1}^D | w_j |$ is the L1 norm of the parameter vector.\n",
                "\n",
                "## Q6) Train LASSO Models\n",
                "We will use the same set of instructions for LASSO as we did for Ridge, except for the following differences. Please refer back to the Ridge Regression instructions and your code to see how these differences fit in!\n",
                "\n",
                "* Use the [Lasso](https://scikit-learn.org/stable/modules/generated/sklearn.linear_model.Lasso.html#sklearn.linear_model.Lasso) model. Like before, the only parameters you need to pass in are $\\lambda$ for the L1 penalty. Like before, sklearn uses the parameter `alpha` instead of `lambda`, but it does the same thing as the `lambda` we discussed in class.\n",
                "* The range L1 penalties should be $[10, 10^2, ..., 10^7]$. In Python, this is `np.logspace(1, 7, 7, base=10)`.\n",
                "* The result should be stored in a `DataFrame` named `lasso_data`. All the columns should have the same name and corresponding values except the penalty column should be called `l1_penalty`.\n",
                "* It is okay if your code prints some `ConvergenceWarning` warnings, these should not impact your results!.\n",
                "\n",
                "You do not need to worry about your code being redundant with the last section for this part."
            ]
        },
        {
            "cell_type": "code",
            "execution_count": 16,
            "metadata": {},
            "outputs": [
                {
                    "name": "stderr",
                    "output_type": "stream",
                    "text": "/usr/lib/python3.13/site-packages/sklearn/linear_model/_coordinate_descent.py:695: ConvergenceWarning: Objective did not converge. You might want to increase the number of iterations, check the scale of the features or consider increasing regularisation. Duality gap: 1.653e+12, tolerance: 1.913e+09\n  model = cd_fast.enet_coordinate_descent(\n/usr/lib/python3.13/site-packages/sklearn/linear_model/_coordinate_descent.py:695: ConvergenceWarning: Objective did not converge. You might want to increase the number of iterations, check the scale of the features or consider increasing regularisation. Duality gap: 1.000e+12, tolerance: 1.913e+09\n  model = cd_fast.enet_coordinate_descent(\n/usr/lib/python3.13/site-packages/sklearn/linear_model/_coordinate_descent.py:695: ConvergenceWarning: Objective did not converge. You might want to increase the number of iterations, check the scale of the features or consider increasing regularisation. Duality gap: 2.343e+09, tolerance: 1.913e+09\n  model = cd_fast.enet_coordinate_descent(\n"
                },
                {
                    "data": {
                        "text/html": "\u003cdiv\u003e\n\u003cstyle scoped\u003e\n    .dataframe tbody tr th:only-of-type {\n        vertical-align: middle;\n    }\n\n    .dataframe tbody tr th {\n        vertical-align: top;\n    }\n\n    .dataframe thead th {\n        text-align: right;\n    }\n\u003c/style\u003e\n\u003ctable border=\"1\" class=\"dataframe\"\u003e\n  \u003cthead\u003e\n    \u003ctr style=\"text-align: right;\"\u003e\n      \u003cth\u003e\u003c/th\u003e\n      \u003cth\u003el1_penalty\u003c/th\u003e\n      \u003cth\u003emodel\u003c/th\u003e\n      \u003cth\u003ermse_train\u003c/th\u003e\n      \u003cth\u003ermse_validation\u003c/th\u003e\n    \u003c/tr\u003e\n  \u003c/thead\u003e\n  \u003ctbody\u003e\n    \u003ctr\u003e\n      \u003cth\u003e0\u003c/th\u003e\n      \u003ctd\u003e10.0\u003c/td\u003e\n      \u003ctd\u003eLasso(alpha=np.float64(10.0))\u003c/td\u003e\n      \u003ctd\u003e151336.667973\u003c/td\u003e\n      \u003ctd\u003e335371.150569\u003c/td\u003e\n    \u003c/tr\u003e\n    \u003ctr\u003e\n      \u003cth\u003e1\u003c/th\u003e\n      \u003ctd\u003e100.0\u003c/td\u003e\n      \u003ctd\u003eLasso(alpha=np.float64(100.0))\u003c/td\u003e\n      \u003ctd\u003e152164.419039\u003c/td\u003e\n      \u003ctd\u003e323670.679137\u003c/td\u003e\n    \u003c/tr\u003e\n    \u003ctr\u003e\n      \u003cth\u003e2\u003c/th\u003e\n      \u003ctd\u003e1000.0\u003c/td\u003e\n      \u003ctd\u003eLasso(alpha=np.float64(1000.0))\u003c/td\u003e\n      \u003ctd\u003e156360.395434\u003c/td\u003e\n      \u003ctd\u003e285201.302593\u003c/td\u003e\n    \u003c/tr\u003e\n    \u003ctr\u003e\n      \u003cth\u003e3\u003c/th\u003e\n      \u003ctd\u003e10000.0\u003c/td\u003e\n      \u003ctd\u003eLasso(alpha=np.float64(10000.0))\u003c/td\u003e\n      \u003ctd\u003e169912.542560\u003c/td\u003e\n      \u003ctd\u003e271138.560249\u003c/td\u003e\n    \u003c/tr\u003e\n    \u003ctr\u003e\n      \u003cth\u003e4\u003c/th\u003e\n      \u003ctd\u003e100000.0\u003c/td\u003e\n      \u003ctd\u003eLasso(alpha=np.float64(100000.0))\u003c/td\u003e\n      \u003ctd\u003e239553.336550\u003c/td\u003e\n      \u003ctd\u003e340385.511537\u003c/td\u003e\n    \u003c/tr\u003e\n    \u003ctr\u003e\n      \u003cth\u003e5\u003c/th\u003e\n      \u003ctd\u003e1000000.0\u003c/td\u003e\n      \u003ctd\u003eLasso(alpha=np.float64(1000000.0))\u003c/td\u003e\n      \u003ctd\u003e357105.698956\u003c/td\u003e\n      \u003ctd\u003e533861.713077\u003c/td\u003e\n    \u003c/tr\u003e\n    \u003ctr\u003e\n      \u003cth\u003e6\u003c/th\u003e\n      \u003ctd\u003e10000000.0\u003c/td\u003e\n      \u003ctd\u003eLasso(alpha=np.float64(10000000.0))\u003c/td\u003e\n      \u003ctd\u003e357105.698956\u003c/td\u003e\n      \u003ctd\u003e533861.713077\u003c/td\u003e\n    \u003c/tr\u003e\n  \u003c/tbody\u003e\n\u003c/table\u003e\n\u003c/div\u003e",
                        "text/plain": "   l1_penalty                                model     rmse_train  \\\n0        10.0        Lasso(alpha=np.float64(10.0))  151336.667973   \n1       100.0       Lasso(alpha=np.float64(100.0))  152164.419039   \n2      1000.0      Lasso(alpha=np.float64(1000.0))  156360.395434   \n3     10000.0     Lasso(alpha=np.float64(10000.0))  169912.542560   \n4    100000.0    Lasso(alpha=np.float64(100000.0))  239553.336550   \n5   1000000.0   Lasso(alpha=np.float64(1000000.0))  357105.698956   \n6  10000000.0  Lasso(alpha=np.float64(10000000.0))  357105.698956   \n\n   rmse_validation  \n0    335371.150569  \n1    323670.679137  \n2    285201.302593  \n3    271138.560249  \n4    340385.511537  \n5    533861.713077  \n6    533861.713077  "
                    },
                    "execution_count": 16,
                    "metadata": {},
                    "output_type": "execute_result"
                }
            ],
            "source": [
                "### edTest(test_lasso) ###\n",
                "\n",
                "from sklearn.linear_model import Lasso\n",
                "\n",
                "l1_lambdas = np.logspace(1, 7, 7, base=10)\n",
                "\n",
                "data = []\n",
                "for i in range(len(l1_lambdas)):\n",
                "    model = Lasso(alpha=l1_lambdas[i], fit_intercept=True, precompute=False, copy_X=True, max_iter=1000, tol=0.0001, warm_start=False, positive=False, random_state=None, selection='cyclic')\n",
                "    model.fit(sales_train_standardized, price_train)\n",
                "\n",
                "    predictions_train = model.predict(sales_train_standardized)\n",
                "    rmse_train = (mean_squared_error(predictions_train, price_train))**(0.5)\n",
                "\n",
                "    predictions_validation = model.predict(sales_validation_standardized)\n",
                "    rmse_validation = (mean_squared_error(predictions_validation, price_validation))**(0.5)\n",
                "    data.append({\n",
                "        'l1_penalty': l1_lambdas[i],\n",
                "        'model': model,\n",
                "        'rmse_train': rmse_train,\n",
                "        'rmse_validation': rmse_validation,\n",
                "    })\n",
                "# TODO Implement code to evaluate LASSO Regression with various L1 penalties\n",
                "\n",
                "lasso_data = pd.DataFrame(data)\n",
                "lasso_data"
            ]
        },
        {
            "attachments": {},
            "cell_type": "markdown",
            "metadata": {},
            "source": [
                "Like before, let's look at how the L1 penalty affects the performance."
            ]
        },
        {
            "cell_type": "code",
            "execution_count": 17,
            "metadata": {},
            "outputs": [
                {
                    "data": {
                        "text/plain": "\u003cmatplotlib.legend.Legend at 0x7f4033809a90\u003e"
                    },
                    "execution_count": 17,
                    "metadata": {},
                    "output_type": "execute_result"
                },
                {
                    "data": {
                        "image/png": "[encoded data removed]",
                        "text/plain": "\u003cFigure size 640x480 with 1 Axes\u003e"
                    },
                    "metadata": {},
                    "output_type": "display_data"
                }
            ],
            "source": [
                "# Plot the validation RMSE as a blue line with dots\n",
                "\n",
                "plt.plot(lasso_data['l1_penalty'], lasso_data['rmse_validation'],\n",
                "         'b-^', label='Validation')\n",
                "\n",
                "# Plot the train RMSE as a red line dots\n",
                "plt.plot(lasso_data['l1_penalty'], lasso_data['rmse_train'],\n",
                "         'r-o', label='Train')\n",
                "\n",
                "# Set y-limits\n",
                "rmse_max = max(lasso_data['rmse_train'].max(), lasso_data['rmse_validation'].max())\n",
                "rmse_max *= 1.1  # Give a little buffer\n",
                "plt.ylim(0, rmse_max)\n",
                "\n",
                "# Make the x-axis log scale for readability\n",
                "plt.xscale('log')\n",
                "\n",
                "# Label the axes and make a legend\n",
                "plt.xlabel('l1_penalty (log scale)')\n",
                "plt.ylabel('RMSE')\n",
                "plt.legend()"
            ]
        },
        {
            "attachments": {},
            "cell_type": "markdown",
            "metadata": {},
            "source": [
                "## Q7 - Inspecting Coefficients\n",
                "Like before, in the cell below, write code that uses the `lasso_data` `DataFrame` to select which L1 penalty we would choose based on the evaluations we did in the previous section. Do not hard-code the best model paramteres, write code to find the best model from the values you compute from the DataFrame. Compute the following:\n",
                "\n",
                "* **Q7.1** -  The best L1 penalty based on the model evaluations. Save this L1 penalty in a variable called `best_l1`.\n",
                "* **Q7.2** - The best model's error on the **test** dataset. Report the number as an RMSE stored in a variable called `rmse_test_lasso`.\n",
                "* **Q7.3** - The number of coefficients in the best model that are 0. Store this in a variable called `num_zero_coeffs_lasso`. Note that `-0.0` and `0.0` are the same for our purposes. Use the `print_coefficients` function to help you check your result."
            ]
        },
        {
            "cell_type": "code",
            "execution_count": 18,
            "metadata": {},
            "outputs": [
                {
                    "name": "stdout",
                    "output_type": "stream",
                    "text": "Best L1 Penalty 10000.0\nTest RMSE 344434.83333799423\nNum Zero Coeffs 29\n"
                }
            ],
            "source": [
                "### edTest(test_lasso_analysis) ###\n",
                "\n",
                "# TODO Print information about best L1 model\n",
                "indexL1 = lasso_data['rmse_validation'].idxmin()\n",
                "lasso_best_row = lasso_data.loc[indexL1]\n",
                "best_l1 = lasso_best_row['l1_penalty']\n",
                "\n",
                "lasso_best_model = lasso_best_row['model']\n",
                "lasso_predictions_test = lasso_best_model.predict(sales_test_standardized)\n",
                "rmse_test_lasso = (mean_squared_error(lasso_predictions_test, price_test))**(0.5)\n",
                "\n",
                "lasso_best_model_coef = lasso_best_model.coef_\n",
                "num = 0\n",
                "for i in range(len(lasso_best_model_coef)):\n",
                "  if(lasso_best_model_coef[i] == 0):\n",
                "    num = num+1\n",
                "num_zero_coeffs_lasso = num\n",
                "\n",
                "# Print your results to help you check their correctness.\n",
                "print('Best L1 Penalty', best_l1)\n",
                "print('Test RMSE', rmse_test_lasso)\n",
                "print('Num Zero Coeffs', num_zero_coeffs_lasso)"
            ]
        },
        {
            "attachments": {},
            "cell_type": "markdown",
            "metadata": {},
            "source": [
                "**Q7.4 -** Let's look at which coefficients ended up having a 0 coefficient. In the cell below, we print the name of all features with coefficient 0. Note, we actually have to check if it is near 0 since numeric computations in Python sometimes yield slight rounding errors (e.g., how 1/3 is .333333333333 and that can't be represented precisely in a computer)\n",
                ""
            ]
        },
        {
            "cell_type": "code",
            "execution_count": 19,
            "metadata": {},
            "outputs": [
                {
                    "name": "stdout",
                    "output_type": "stream",
                    "text": "Features with coefficient == 0: ['bedrooms', 'bedrooms_square', 'bathrooms', 'bathrooms_sqrt', 'sqft_living', 'sqft_living_square', 'sqft_living_sqrt', 'sqft_lot', 'sqft_lot_sqrt', 'floors', 'floors_square', 'waterfront_square', 'waterfront_sqrt', 'view', 'view_square', 'view_sqrt', 'condition', 'condition_square', 'condition_sqrt', 'grade', 'grade_sqrt', 'sqft_above', 'sqft_above_sqrt', 'sqft_basement', 'sqft_basement_square', 'sqft_basement_sqrt', 'yr_built_square', 'yr_renovated', 'yr_renovated_sqrt']\nFeatures with coefficient != 0: ['bedrooms_sqrt', 'bathrooms_square', 'sqft_lot_square', 'floors_sqrt', 'waterfront', 'grade_square', 'sqft_above_square', 'yr_built', 'yr_built_sqrt', 'yr_renovated_square']\n"
                }
            ],
            "source": [
                "### edTest(test_best_model_lasso) ###\n",
                "\n",
                "# TODO: Use code like from the above cell to get the best model.\n",
                "best_model_lasso = lasso_best_model\n",
                "\n",
                "zero_coef_features = []\n",
                "nonzero_coef_features = []\n",
                "for feature, coef in zip(all_features, best_model_lasso.coef_):\n",
                "  if abs(coef) \u003c= 10 ** -17:\n",
                "    zero_coef_features.append(feature)\n",
                "  else:\n",
                "    nonzero_coef_features.append(feature)\n",
                "\n",
                "print(\"Features with coefficient == 0:\", zero_coef_features)\n",
                "print(\"Features with coefficient != 0:\", nonzero_coef_features)"
            ]
        }
    ]
}
